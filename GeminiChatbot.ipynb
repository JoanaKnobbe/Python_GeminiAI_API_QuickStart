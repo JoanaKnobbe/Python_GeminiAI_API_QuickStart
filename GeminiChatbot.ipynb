{
  "nbformat": 4,
  "nbformat_minor": 0,
  "metadata": {
    "colab": {
      "provenance": [],
      "authorship_tag": "ABX9TyPsrbMcTZ823x/qVM+7NdQk",
      "include_colab_link": true
    },
    "kernelspec": {
      "name": "python3",
      "display_name": "Python 3"
    },
    "language_info": {
      "name": "python"
    }
  },
  "cells": [
    {
      "cell_type": "markdown",
      "metadata": {
        "id": "view-in-github",
        "colab_type": "text"
      },
      "source": [
        "<a href=\"https://colab.research.google.com/github/JoanaKnobbe/Python_GeminiAI_API_QuickStart/blob/main/GeminiChatbot.ipynb\" target=\"_parent\"><img src=\"https://colab.research.google.com/assets/colab-badge.svg\" alt=\"Open In Colab\"/></a>"
      ]
    },
    {
      "cell_type": "markdown",
      "source": [
        "Instalando o SDK do Google"
      ],
      "metadata": {
        "id": "bg37lYytibTS"
      }
    },
    {
      "cell_type": "code",
      "execution_count": null,
      "metadata": {
        "id": "DBaWty81iSu5"
      },
      "outputs": [],
      "source": [
        "!pip install -q -U google-generativeai\n"
      ]
    },
    {
      "cell_type": "code",
      "source": [
        "# Import the Python SDK\n",
        "import google.generativeai as genai\n",
        "\n",
        "from google.colab import userdata\n",
        "api_key = userdata.get(\"SECRET_KEY\")\n",
        "genai.configure(api_key=api_key)"
      ],
      "metadata": {
        "id": "x9eX1uwkiseS"
      },
      "execution_count": null,
      "outputs": []
    },
    {
      "cell_type": "code",
      "source": [
        "for m in genai.list_models():\n",
        "  if 'generateContent' in m.supported_generation_methods:\n",
        "    print(m.name)"
      ],
      "metadata": {
        "colab": {
          "base_uri": "https://localhost:8080/",
          "height": 138
        },
        "id": "9aKToDbqi6IT",
        "outputId": "0253969f-22b6-4881-880a-a33272b20e6c"
      },
      "execution_count": null,
      "outputs": [
        {
          "output_type": "stream",
          "name": "stdout",
          "text": [
            "models/gemini-1.0-pro\n",
            "models/gemini-1.0-pro-001\n",
            "models/gemini-1.0-pro-latest\n",
            "models/gemini-1.0-pro-vision-latest\n",
            "models/gemini-1.5-pro-latest\n",
            "models/gemini-pro\n",
            "models/gemini-pro-vision\n"
          ]
        }
      ]
    },
    {
      "cell_type": "markdown",
      "source": [
        "*   models/gemini-1.0-pro ----------------> versão texto mais estável\n",
        "models/gemini-1.0-pro-001 ------------> versão texto experimental\n",
        "\n",
        "*   models/gemini-1.0-pro-latest ---------> versão texto experimental mais recente\n",
        "*   models/gemini-1.0-pro-vision-latest --> vision = multimodal\n",
        "\n"
      ],
      "metadata": {
        "id": "TV_3EBX2lCfH"
      }
    },
    {
      "cell_type": "code",
      "source": [
        "generation_config = {\n",
        "    \"candidate_count\": 1,\n",
        "    \"temperature\": 0.5,\n",
        "}"
      ],
      "metadata": {
        "id": "59hvQgV5jlpP"
      },
      "execution_count": null,
      "outputs": []
    },
    {
      "cell_type": "code",
      "source": [
        "safety_settings = {\n",
        "    \"HARASSMENT\": \"BLOCK_NONE\",\n",
        "    \"HATE\": \"BLOCK_NONE\",\n",
        "    \"SEXUAL\": \"BLOCK_NONE\",\n",
        "    \"DANGEROUS\": \"BLOCK_NONE\",\n",
        "}"
      ],
      "metadata": {
        "id": "k7Bu4NsUvwwE"
      },
      "execution_count": null,
      "outputs": []
    },
    {
      "cell_type": "markdown",
      "source": [
        "Inicializando o modelo"
      ],
      "metadata": {
        "id": "KbrFHi4zw4gv"
      }
    },
    {
      "cell_type": "code",
      "source": [
        "model = genai.GenerativeModel(model_name=\"gemini-1.0-pro\", generation_config=generation_config)"
      ],
      "metadata": {
        "id": "ObbwSyPTw7bc"
      },
      "execution_count": null,
      "outputs": []
    },
    {
      "cell_type": "code",
      "source": [
        "response = model.generate_content(\"Write a story about a magic backpack.\")\n",
        "print(response.text)"
      ],
      "metadata": {
        "colab": {
          "base_uri": "https://localhost:8080/",
          "height": 263
        },
        "id": "R0K5sFr5zQw8",
        "outputId": "0cc99a1d-299c-4904-9bc8-b2961135d6fb"
      },
      "execution_count": null,
      "outputs": [
        {
          "output_type": "stream",
          "name": "stdout",
          "text": [
            "In the quaint town of Willow Creek, nestled amidst rolling hills and whispering willows, there lived a young girl named Anya. With her insatiable curiosity and thirst for adventure, Anya's heart yearned for something extraordinary.\n",
            "\n",
            "One fateful day, as she rummaged through her grandmother's attic, Anya stumbled upon a dusty old backpack hidden beneath a pile of forgotten treasures. Its faded leather and intricate carvings hinted at a long and mysterious history. Curiosity sparked within her as she reached out to unbuckle it.\n",
            "\n",
            "As her fingers touched the clasp, a surge of energy coursed through her body. The backpack seemed to come alive, its compartments expanding and revealing an astonishing array of magical items. There was a compass that always pointed to the direction of Anya's dreams, a book that whispered ancient secrets, and a vial of shimmering liquid that could heal any wound.\n",
            "\n",
            "Overwhelmed with wonder, Anya realized that she had stumbled upon a backpack of limitless possibilities. It became her constant companion, accompanying her on countless adventures. With the compass guiding her path, she explored hidden trails and discovered secret waterfalls. The book shared tales of forgotten civilizations and whispered wisdom that ignited her imagination.\n",
            "\n",
            "One sunny afternoon, as Anya sat by the riverbank, she noticed a group of children struggling to free a trapped bird. Without hesitation, she reached into her backpack and retrieved the vial of healing liquid. With a gentle touch, she poured a few drops onto the bird's injured wing, and to her amazement, it healed instantly.\n",
            "\n",
            "Word of Anya's magical backpack spread throughout Willow Creek like wildfire. People from far and wide came to seek her help, knowing that she possessed the power to solve their problems and heal their wounds. Anya used her gifts wisely, always striving to make the world a better place.\n",
            "\n",
            "As the years passed, the magic backpack became a symbol of hope and wonder in Willow Creek. It taught Anya the importance of kindness, courage, and the boundless power of imagination. And so, the legend of the magical backpack was passed down through generations, inspiring countless children to believe in the extraordinary and to embrace the adventures that life had to offer.\n"
          ]
        }
      ]
    },
    {
      "cell_type": "code",
      "source": [
        "chat = model.start_chat(history=[])"
      ],
      "metadata": {
        "id": "QSTqEu-mz4N3"
      },
      "execution_count": null,
      "outputs": []
    },
    {
      "cell_type": "code",
      "source": [
        "prompt = input(\"Esperando prompt\")\n",
        "\n",
        "while prompt != \"fim\":\n",
        "  response = chat.send_message(prompt)\n",
        "  print(\"Resposta: \", response.text, \"\\n\")\n",
        "  prompt = input(\"Esperando prompt: \")\n"
      ],
      "metadata": {
        "colab": {
          "base_uri": "https://localhost:8080/",
          "height": 225
        },
        "id": "4O9LtR450qED",
        "outputId": "cee73bc8-91c2-4b9d-ef0a-3ee2752c35fa"
      },
      "execution_count": null,
      "outputs": [
        {
          "name": "stdout",
          "output_type": "stream",
          "text": [
            "Esperando promptQual é a frase que se imprime ao fazer o primeiro código em uma nova linguagem de programação?\n",
            "Resposta:  \"Hello, world!\" \n",
            "\n",
            "Esperando prompt: traduza minha prompt anterior para o ingles\n",
            "Resposta:  What is the first phrase that is printed when writing the first code in a new programming language? \n",
            "\n",
            "Esperando prompt: answer that prompt in danish\n",
            "Resposta:  Den første sætning, der udskrives, når man skriver den første kode i et nyt programmeringssprog, er:\n",
            "\n",
            "\"Hej Verden!\" \n",
            "\n",
            "Esperando prompt: fim\n"
          ]
        }
      ]
    },
    {
      "cell_type": "markdown",
      "source": [
        "Melhorando a visualização com markdown:\n",
        "\n",
        "> https://ai.google.dev/gemini-api/docs/get-started/python?hl=pt-br#import_packages\n",
        "\n",
        "\n"
      ],
      "metadata": {
        "id": "1od-NYol7gnN"
      }
    },
    {
      "cell_type": "code",
      "source": [
        "import pathlib\n",
        "import textwrap\n",
        "from IPython.display import display\n",
        "from IPython.display import Markdown\n",
        "\n",
        "\n",
        "def to_markdown(text):\n",
        "  text = text.replace('•', '  *')\n",
        "  return Markdown(textwrap.indent(text, '> ', predicate=lambda _: True))\n",
        "\n",
        "#Imprimindo o historico\n",
        "for message in chat.history:\n",
        "  display(to_markdown(f'**{message.role}**: {message.parts[0].text}'))\n",
        "  print('--------------------------------')"
      ],
      "metadata": {
        "colab": {
          "base_uri": "https://localhost:8080/",
          "height": 542
        },
        "id": "EnHiBzuC1Qhq",
        "outputId": "02f47188-83b3-4fa7-c136-0ba327d705b5"
      },
      "execution_count": null,
      "outputs": [
        {
          "output_type": "display_data",
          "data": {
            "text/plain": [
              "<IPython.core.display.Markdown object>"
            ],
            "text/markdown": "> **user**: qual é a primeira frase que se imprime ao escrever o primeiro codigo em uma nova linguagem de programacao?"
          },
          "metadata": {}
        },
        {
          "output_type": "stream",
          "name": "stdout",
          "text": [
            "--------------------------------\n"
          ]
        },
        {
          "output_type": "display_data",
          "data": {
            "text/plain": [
              "<IPython.core.display.Markdown object>"
            ],
            "text/markdown": "> **model**: \"Hello, world!\""
          },
          "metadata": {}
        },
        {
          "output_type": "stream",
          "name": "stdout",
          "text": [
            "--------------------------------\n"
          ]
        },
        {
          "output_type": "display_data",
          "data": {
            "text/plain": [
              "<IPython.core.display.Markdown object>"
            ],
            "text/markdown": "> **user**: Qual é a frase que se imprime ao fazer o primeiro código em uma nova linguagem de programação?"
          },
          "metadata": {}
        },
        {
          "output_type": "stream",
          "name": "stdout",
          "text": [
            "--------------------------------\n"
          ]
        },
        {
          "output_type": "display_data",
          "data": {
            "text/plain": [
              "<IPython.core.display.Markdown object>"
            ],
            "text/markdown": "> **model**: \"Hello, world!\""
          },
          "metadata": {}
        },
        {
          "output_type": "stream",
          "name": "stdout",
          "text": [
            "--------------------------------\n"
          ]
        },
        {
          "output_type": "display_data",
          "data": {
            "text/plain": [
              "<IPython.core.display.Markdown object>"
            ],
            "text/markdown": "> **user**: traduza minha prompt anterior para o ingles"
          },
          "metadata": {}
        },
        {
          "output_type": "stream",
          "name": "stdout",
          "text": [
            "--------------------------------\n"
          ]
        },
        {
          "output_type": "display_data",
          "data": {
            "text/plain": [
              "<IPython.core.display.Markdown object>"
            ],
            "text/markdown": "> **model**: What is the first phrase that is printed when writing the first code in a new programming language?"
          },
          "metadata": {}
        },
        {
          "output_type": "stream",
          "name": "stdout",
          "text": [
            "--------------------------------\n"
          ]
        },
        {
          "output_type": "display_data",
          "data": {
            "text/plain": [
              "<IPython.core.display.Markdown object>"
            ],
            "text/markdown": "> **user**: answer that prompt in danish"
          },
          "metadata": {}
        },
        {
          "output_type": "stream",
          "name": "stdout",
          "text": [
            "--------------------------------\n"
          ]
        },
        {
          "output_type": "display_data",
          "data": {
            "text/plain": [
              "<IPython.core.display.Markdown object>"
            ],
            "text/markdown": "> **model**: Den første sætning, der udskrives, når man skriver den første kode i et nyt programmeringssprog, er:\n> \n> \"Hej Verden!\""
          },
          "metadata": {}
        },
        {
          "output_type": "stream",
          "name": "stdout",
          "text": [
            "--------------------------------\n"
          ]
        }
      ]
    }
  ]
}